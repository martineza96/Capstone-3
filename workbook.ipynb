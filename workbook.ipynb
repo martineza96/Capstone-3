{
  "nbformat": 4,
  "nbformat_minor": 0,
  "metadata": {
    "colab": {
      "name": "Untitled6.ipynb",
      "provenance": [],
      "collapsed_sections": [],
      "authorship_tag": "ABX9TyOZSCxQRkCxzT/zhChfxuAj"
    },
    "kernelspec": {
      "name": "python3",
      "display_name": "Python 3"
    }
  },
  "cells": [
    {
      "cell_type": "code",
      "metadata": {
        "id": "KvhWEW2UUjvJ"
      },
      "source": [
        "#This is a test"
      ],
      "execution_count": null,
      "outputs": []
    }
  ]
}