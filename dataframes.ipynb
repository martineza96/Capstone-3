{
 "cells": [
  {
   "cell_type": "markdown",
   "metadata": {
    "colab_type": "text",
    "id": "view-in-github"
   },
   "source": [
    "<a href=\"https://colab.research.google.com/github/martineza96/Capstone-3/blob/main/workbook_cap3.ipynb\" target=\"_parent\"><img src=\"https://colab.research.google.com/assets/colab-badge.svg\" alt=\"Open In Colab\"/></a>"
   ]
  },
  {
   "cell_type": "code",
   "execution_count": 1,
   "metadata": {
    "id": "KvhWEW2UUjvJ"
   },
   "outputs": [],
   "source": [
    "import requests\n",
    "import pandas as pd\n",
    "import matplotlib.pyplot as plt\n",
    "import numpy as np\n",
    "import sklearn\n"
   ]
  },
  {
   "cell_type": "code",
   "execution_count": 2,
   "metadata": {
    "colab": {
     "base_uri": "https://localhost:8080/"
    },
    "id": "75_gvVlJZdB3",
    "outputId": "84b53c42-1d3b-4c38-9198-8d91268c6384"
   },
   "outputs": [
    {
     "name": "stdout",
     "output_type": "stream",
     "text": [
      "Requirement already satisfied: yelpapi in /usr/local/lib/python3.6/dist-packages (2.4.0)\n",
      "Requirement already satisfied: requests in /usr/local/lib/python3.6/dist-packages (from yelpapi) (2.23.0)\n",
      "Requirement already satisfied: idna<3,>=2.5 in /usr/local/lib/python3.6/dist-packages (from requests->yelpapi) (2.10)\n",
      "Requirement already satisfied: chardet<4,>=3.0.2 in /usr/local/lib/python3.6/dist-packages (from requests->yelpapi) (3.0.4)\n",
      "Requirement already satisfied: urllib3!=1.25.0,!=1.25.1,<1.26,>=1.21.1 in /usr/local/lib/python3.6/dist-packages (from requests->yelpapi) (1.24.3)\n",
      "Requirement already satisfied: certifi>=2017.4.17 in /usr/local/lib/python3.6/dist-packages (from requests->yelpapi) (2020.12.5)\n"
     ]
    }
   ],
   "source": [
    "! pip install yelpapi\n",
    "from yelpapi import YelpAPI\n"
   ]
  },
  {
   "cell_type": "code",
   "execution_count": 2,
   "metadata": {
    "id": "0bgRqGSv0dZw"
   },
   "outputs": [],
   "source": []
  },
  {
   "cell_type": "code",
   "execution_count": 3,
   "metadata": {
    "id": "_rGFMxbIWpWN"
   },
   "outputs": [],
   "source": [
    "client_id = 'j2gs-vpnM4hK8ZdTnI9Z_w'\n",
    "api_key = 'DQxI9tgPVGK267io5Aio_2Ki2nClIabv1rae7FGMElnMfH6FPxq3a7u3e3drxb47RwwTr7GVrN6fL7Gz_ezLxRSUDy95eiWTj5Zh1Vamet95rxoakef3lj7DuFrrX3Yx'\n",
    "\n",
    "\n"
   ]
  },
  {
   "cell_type": "code",
   "execution_count": 4,
   "metadata": {
    "id": "3VU3jutvYt-K"
   },
   "outputs": [],
   "source": [
    "req_business_string = \"https://api.yelp.com/v3/businesses/search?term=restaurants&location='Middletown, New York'\""
   ]
  },
  {
   "cell_type": "code",
   "execution_count": 5,
   "metadata": {
    "id": "E74FoO99Y1rz"
   },
   "outputs": [],
   "source": [
    "#r = requests.get(req_business_string, \n",
    "                 #headers={\"content-type\":\"application/json\", \n",
    "                          #\"authorization\": \"client_id \" + key})"
   ]
  },
  {
   "cell_type": "code",
   "execution_count": 6,
   "metadata": {
    "id": "SwQhZskMZqrp"
   },
   "outputs": [],
   "source": [
    "#json = r.json()\n",
    "#businesses = json['businesses']"
   ]
  },
  {
   "cell_type": "code",
   "execution_count": 7,
   "metadata": {
    "id": "0mKpMBvFacQF"
   },
   "outputs": [],
   "source": [
    "#df = pd.DataFrame.from_dict(businesses)"
   ]
  },
  {
   "cell_type": "code",
   "execution_count": 8,
   "metadata": {
    "id": "xptgak3uadbz"
   },
   "outputs": [],
   "source": [
    "def get_businesses(location, term, api_key=api_key):\n",
    "    headers = {'Authorization': 'Bearer %s' % api_key}\n",
    "    url = 'https://api.yelp.com/v3/businesses/search'\n",
    "\n",
    "    data = []\n",
    "    for offset in range(0, 1000, 50):\n",
    "        params = {\n",
    "            'limit': 50, \n",
    "            'location': location.replace(' ', '+'),\n",
    "            'term': term.replace(' ', '+'),\n",
    "            'offset': offset\n",
    "        }\n",
    "\n",
    "        response = requests.get(url, headers=headers, params=params)\n",
    "        if response.status_code == 200:\n",
    "            data += response.json()['businesses']\n",
    "        elif response.status_code == 400:\n",
    "            print('400 Bad Request')\n",
    "            break\n",
    "\n",
    "    return data"
   ]
  },
  {
   "cell_type": "code",
   "execution_count": 9,
   "metadata": {
    "id": "T_mh4omcbgt3"
   },
   "outputs": [],
   "source": [
    "Middletown = get_businesses('Middletown,NY','restaurants&location')"
   ]
  },
  {
   "cell_type": "code",
   "execution_count": 10,
   "metadata": {
    "id": "cK0jm6tXLgpa"
   },
   "outputs": [],
   "source": [
    "Brooklyn = get_businesses('Brooklyn, NY','restaurants&location')"
   ]
  },
  {
   "cell_type": "code",
   "execution_count": 11,
   "metadata": {
    "id": "ofYZ94t9KxMn"
   },
   "outputs": [],
   "source": [
    "Worcester = get_businesses('Worcester, MA','restaurants&location')"
   ]
  },
  {
   "cell_type": "code",
   "execution_count": 12,
   "metadata": {
    "id": "fFC6JwA2LCWP"
   },
   "outputs": [],
   "source": [
    "Worcester = get_businesses('Worcester, MA','restaurants&location')"
   ]
  },
  {
   "cell_type": "code",
   "execution_count": 13,
   "metadata": {
    "id": "NAOKUGyUdTVH"
   },
   "outputs": [],
   "source": [
    "#len(middletown)"
   ]
  },
  {
   "cell_type": "code",
   "execution_count": 15,
   "metadata": {
    "id": "LFsnIoIRdhAt"
   },
   "outputs": [],
   "source": [
    "middletown_df = pd.DataFrame.from_dict(Middletown)\n",
    "brooklyn_df = pd.DataFrame.from_dict(Brooklyn)\n",
    "worcester_df = pd.DataFrame.from_dict(Worcester)"
   ]
  },
  {
   "cell_type": "code",
   "execution_count": 16,
   "metadata": {
    "id": "qPhUNJfJLUgr"
   },
   "outputs": [],
   "source": [
    "middletown_df['phone'] = middletown_df['phone'].map(lambda x: int(x[2:]) if len(x) > 1 else 0 )\n"
   ]
  },
  {
   "cell_type": "code",
   "execution_count": 18,
   "metadata": {
    "id": "ne6cCDTldjzF"
   },
   "outputs": [],
   "source": [
    "\n",
    "#middletown_df[middletown_df['price'].isna()]"
   ]
  },
  {
   "cell_type": "code",
   "execution_count": null,
   "metadata": {
    "id": "WCZoXDuZ0shI"
   },
   "outputs": [],
   "source": [
    "#query = f'https://api.documenu.com/v2/restaurants/search/fields?exact=true&restaurant_phone={phone_number}?key=b9d9b70df37a7bddf006406fdf8cbe32'\n",
    "\n",
    "\n",
    "#middletown_df['phone'].dropna(inplace=True)\n",
    "# for phone_number in middletown_df['phone']:\n",
    "#   print(phone_number)\n",
    "middletown_df.dtypes"
   ]
  },
  {
   "cell_type": "code",
   "execution_count": 19,
   "metadata": {
    "id": "lxd5pPJEd5Tf"
   },
   "outputs": [],
   "source": [
    "# middletown_menus = {}\n",
    "\n",
    "# for phone_number in middletown_df['phone']:\n",
    "#   try:\n",
    "#     menu = f'https://api.documenu.com/v2/restaurants/search/fields?exact=true&restaurant_phone={phone_number}?key=b9d9b70df37a7bddf006406fdf8cbe32'\n",
    "#     req = requests.get(menu)\n",
    "#     middletown_menus[phone_number] = req\n",
    "#   except:\n",
    "#     middletown_menu[phone_number] = 'No Menu'"
   ]
  },
  {
   "cell_type": "code",
   "execution_count": null,
   "metadata": {
    "id": "iK6qWJpdFoIV"
   },
   "outputs": [],
   "source": []
  },
  {
   "cell_type": "code",
   "execution_count": 20,
   "metadata": {
    "id": "5gyC4ZxYWdtz"
   },
   "outputs": [],
   "source": [
    "def create_zip_menu_df(zipcode,pages=1):\n",
    "  headers = {'x-api-key': \"b9d9b70df37a7bddf006406fdf8cbe32\"}\n",
    "  if pages == 1:\n",
    "    url = f'https://api.documenu.com/v2/restaurants/zip_code/{zipcode}?page={pages}&fullmenu=true'\n",
    "    response = requests.get(url, headers=headers)\n",
    "    menu = response.json()\n",
    "    out_dataframe = pd.DataFrame.from_dict(menu['data'],ignore_index=True)\n",
    "    \n",
    "    return out_dataframe \n",
    "\n",
    "  else:\n",
    "    menus = []\n",
    "    for i in range(1,pages+1):\n",
    "      \n",
    "      url = f'https://api.documenu.com/v2/restaurants/zip_code/{zipcode}?page={i}&fullmenu=true'\n",
    "      response = requests.get(url, headers=headers)\n",
    "      menu = response.json()\n",
    "      menus.append(menu)\n",
    "\n",
    "    dataframes = {}\n",
    "    for i in range(len(menus)):\n",
    "      df = pd.DataFrame.from_dict(menus[i]['data'])\n",
    "      dataframes[i] = df\n",
    "\n",
    "    final_df = dataframes[0]\n",
    "    for i in range(1,len(menus)):\n",
    "      final_df = final_df.append(dataframes[i],ignore_index=True)\n",
    " \n",
    "  return final_df\n",
    "\n",
    "\n"
   ]
  },
  {
   "cell_type": "code",
   "execution_count": 21,
   "metadata": {
    "colab": {
     "base_uri": "https://localhost:8080/",
     "height": 983
    },
    "id": "E6osg3Mzqbpo",
    "outputId": "7e6378e8-c158-4490-b358-14619e3cbf5c"
   },
   "outputs": [
    {
     "data": {
      "text/html": [
       "<div>\n",
       "<style scoped>\n",
       "    .dataframe tbody tr th:only-of-type {\n",
       "        vertical-align: middle;\n",
       "    }\n",
       "\n",
       "    .dataframe tbody tr th {\n",
       "        vertical-align: top;\n",
       "    }\n",
       "\n",
       "    .dataframe thead th {\n",
       "        text-align: right;\n",
       "    }\n",
       "</style>\n",
       "<table border=\"1\" class=\"dataframe\">\n",
       "  <thead>\n",
       "    <tr style=\"text-align: right;\">\n",
       "      <th></th>\n",
       "      <th>restaurant_name</th>\n",
       "      <th>restaurant_phone</th>\n",
       "      <th>restaurant_website</th>\n",
       "      <th>hours</th>\n",
       "      <th>price_range</th>\n",
       "      <th>price_range_num</th>\n",
       "      <th>restaurant_id</th>\n",
       "      <th>cuisines</th>\n",
       "      <th>address</th>\n",
       "      <th>geo</th>\n",
       "      <th>menus</th>\n",
       "      <th>last_updated</th>\n",
       "    </tr>\n",
       "  </thead>\n",
       "  <tbody>\n",
       "    <tr>\n",
       "      <th>0</th>\n",
       "      <td>Quiznos Sub</td>\n",
       "      <td>(845) 342-0042</td>\n",
       "      <td>http://www.quiznos.com/</td>\n",
       "      <td></td>\n",
       "      <td></td>\n",
       "      <td>0</td>\n",
       "      <td>4142790974426396</td>\n",
       "      <td>[American, Sandwiches, Wraps]</td>\n",
       "      <td>{'city': 'MIDDLETOWN', 'state': 'NY', 'postal_...</td>\n",
       "      <td>{'lat': 41.427909, 'lon': -74.426396}</td>\n",
       "      <td>[{'menu_name': 'Main', 'menu_sections': [{'sec...</td>\n",
       "      <td>2020-12-23T06:57:04.654Z</td>\n",
       "    </tr>\n",
       "    <tr>\n",
       "      <th>1</th>\n",
       "      <td>Starbucks Coffee</td>\n",
       "      <td>(845) 343-0747</td>\n",
       "      <td>http://www.starbucks.com</td>\n",
       "      <td></td>\n",
       "      <td></td>\n",
       "      <td>0</td>\n",
       "      <td>4145320374382467</td>\n",
       "      <td>[American, Coffee &amp; Tea]</td>\n",
       "      <td>{'city': 'MIDDLETOWN', 'state': 'NY', 'postal_...</td>\n",
       "      <td>{'lat': 41.453203, 'lon': -74.382467}</td>\n",
       "      <td>[{'menu_name': 'Main', 'menu_sections': [{'sec...</td>\n",
       "      <td>2020-12-23T06:57:04.671Z</td>\n",
       "    </tr>\n",
       "    <tr>\n",
       "      <th>2</th>\n",
       "      <td>Perkins Restaurant &amp; Bakery</td>\n",
       "      <td>(845) 692-9566</td>\n",
       "      <td>https://stores.perkinsrestaurants.com/us/ny/mi...</td>\n",
       "      <td></td>\n",
       "      <td></td>\n",
       "      <td>0</td>\n",
       "      <td>4146350774374587</td>\n",
       "      <td>[American, Bakery &amp; Pastries, Salads, Sandwich...</td>\n",
       "      <td>{'city': 'Middletown', 'state': 'NY', 'postal_...</td>\n",
       "      <td>{'lat': 41.463507, 'lon': -74.374587}</td>\n",
       "      <td>[{'menu_name': 'Main', 'menu_sections': [{'sec...</td>\n",
       "      <td>2020-12-23T06:57:04.697Z</td>\n",
       "    </tr>\n",
       "    <tr>\n",
       "      <th>3</th>\n",
       "      <td>Ruby Tuesdays</td>\n",
       "      <td>(845) 342-9006</td>\n",
       "      <td>http://www.rubytuesday.com</td>\n",
       "      <td></td>\n",
       "      <td></td>\n",
       "      <td>0</td>\n",
       "      <td>4145241174381606</td>\n",
       "      <td>[American, Burgers]</td>\n",
       "      <td>{'city': 'MIDDLETOWN', 'state': 'NY', 'postal_...</td>\n",
       "      <td>{'lat': 41.452411, 'lon': -74.381606}</td>\n",
       "      <td>[{'menu_name': 'Main', 'menu_sections': [{'sec...</td>\n",
       "      <td>2020-12-23T06:57:04.719Z</td>\n",
       "    </tr>\n",
       "    <tr>\n",
       "      <th>4</th>\n",
       "      <td>Panera Bread</td>\n",
       "      <td>(845) 344-5900</td>\n",
       "      <td>https://locations.panerabread.com/ny/middletow...</td>\n",
       "      <td></td>\n",
       "      <td></td>\n",
       "      <td>0</td>\n",
       "      <td>4145300074381600</td>\n",
       "      <td>[American, Bakery &amp; Pastries, Sandwiches]</td>\n",
       "      <td>{'city': 'Middletown', 'state': 'NY', 'postal_...</td>\n",
       "      <td>{'lat': 41.453, 'lon': -74.3816}</td>\n",
       "      <td>[{'menu_name': '', 'menu_sections': [{'section...</td>\n",
       "      <td>2020-12-23T06:57:04.897Z</td>\n",
       "    </tr>\n",
       "    <tr>\n",
       "      <th>...</th>\n",
       "      <td>...</td>\n",
       "      <td>...</td>\n",
       "      <td>...</td>\n",
       "      <td>...</td>\n",
       "      <td>...</td>\n",
       "      <td>...</td>\n",
       "      <td>...</td>\n",
       "      <td>...</td>\n",
       "      <td>...</td>\n",
       "      <td>...</td>\n",
       "      <td>...</td>\n",
       "      <td>...</td>\n",
       "    </tr>\n",
       "    <tr>\n",
       "      <th>123</th>\n",
       "      <td>Dos Amigos</td>\n",
       "      <td>(845) 733-8306</td>\n",
       "      <td>http:///ny/middletown/817298-dos-amigos/</td>\n",
       "      <td></td>\n",
       "      <td></td>\n",
       "      <td>0</td>\n",
       "      <td>4152932774423149</td>\n",
       "      <td>[]</td>\n",
       "      <td>{'city': 'Middletown', 'state': 'NY', 'postal_...</td>\n",
       "      <td>{'lat': 41.529327, 'lon': -74.423149}</td>\n",
       "      <td>[{'menu_name': 'Main', 'menu_sections': [{'sec...</td>\n",
       "      <td>2020-12-23T06:57:16.409Z</td>\n",
       "    </tr>\n",
       "    <tr>\n",
       "      <th>124</th>\n",
       "      <td>Boxo Noodle Bar Inc</td>\n",
       "      <td>(845) 381-5556</td>\n",
       "      <td>http:///ny/middletown/807982-boxo-noodle-bar-inc/</td>\n",
       "      <td></td>\n",
       "      <td></td>\n",
       "      <td>0</td>\n",
       "      <td>4145032574417870</td>\n",
       "      <td>[]</td>\n",
       "      <td>{'city': 'Middletown', 'state': 'NY', 'postal_...</td>\n",
       "      <td>{'lat': 41.450325, 'lon': -74.41787}</td>\n",
       "      <td>[{'menu_name': 'Main', 'menu_sections': [{'sec...</td>\n",
       "      <td>2020-12-23T06:57:16.461Z</td>\n",
       "    </tr>\n",
       "    <tr>\n",
       "      <th>125</th>\n",
       "      <td>Panera Bread</td>\n",
       "      <td>(855) 272-6372</td>\n",
       "      <td>http:///ny/middletown/844948-panera-bread/</td>\n",
       "      <td></td>\n",
       "      <td></td>\n",
       "      <td>0</td>\n",
       "      <td>4145343074380585</td>\n",
       "      <td>[]</td>\n",
       "      <td>{'city': 'Middletown', 'state': 'NY', 'postal_...</td>\n",
       "      <td>{'lat': 41.45343, 'lon': -74.380585}</td>\n",
       "      <td>[{'menu_name': 'Main', 'menu_sections': [{'sec...</td>\n",
       "      <td>2020-12-23T06:57:16.951Z</td>\n",
       "    </tr>\n",
       "    <tr>\n",
       "      <th>126</th>\n",
       "      <td>IHOP</td>\n",
       "      <td>(845) 343-0880</td>\n",
       "      <td>http://ihop.com</td>\n",
       "      <td></td>\n",
       "      <td></td>\n",
       "      <td>0</td>\n",
       "      <td>4142780774426488</td>\n",
       "      <td>[American, Burgers, Salads, Sandwiches, Soups,...</td>\n",
       "      <td>{'city': 'MIDDLETOWN', 'state': 'NY', 'postal_...</td>\n",
       "      <td>{'lat': 41.427807, 'lon': -74.426488}</td>\n",
       "      <td>[{'menu_name': 'Main', 'menu_sections': [{'sec...</td>\n",
       "      <td>2020-12-23T06:57:17.429Z</td>\n",
       "    </tr>\n",
       "    <tr>\n",
       "      <th>127</th>\n",
       "      <td>Dunkin'</td>\n",
       "      <td>(845) 692-6250</td>\n",
       "      <td>https://www.dunkindonuts.com?utm_source=yext&amp;u...</td>\n",
       "      <td></td>\n",
       "      <td></td>\n",
       "      <td>0</td>\n",
       "      <td>4146630074359200</td>\n",
       "      <td>[]</td>\n",
       "      <td>{'city': 'Wallkill', 'state': 'NY', 'postal_co...</td>\n",
       "      <td>{'lat': 41.4663, 'lon': -74.3592}</td>\n",
       "      <td>[{'menu_name': '', 'menu_sections': [{'section...</td>\n",
       "      <td>2020-12-23T07:37:56.898Z</td>\n",
       "    </tr>\n",
       "  </tbody>\n",
       "</table>\n",
       "<p>128 rows × 12 columns</p>\n",
       "</div>"
      ],
      "text/plain": [
       "                 restaurant_name  ...              last_updated\n",
       "0                    Quiznos Sub  ...  2020-12-23T06:57:04.654Z\n",
       "1               Starbucks Coffee  ...  2020-12-23T06:57:04.671Z\n",
       "2    Perkins Restaurant & Bakery  ...  2020-12-23T06:57:04.697Z\n",
       "3                  Ruby Tuesdays  ...  2020-12-23T06:57:04.719Z\n",
       "4                   Panera Bread  ...  2020-12-23T06:57:04.897Z\n",
       "..                           ...  ...                       ...\n",
       "123                   Dos Amigos  ...  2020-12-23T06:57:16.409Z\n",
       "124          Boxo Noodle Bar Inc  ...  2020-12-23T06:57:16.461Z\n",
       "125                 Panera Bread  ...  2020-12-23T06:57:16.951Z\n",
       "126                         IHOP  ...  2020-12-23T06:57:17.429Z\n",
       "127                      Dunkin'  ...  2020-12-23T07:37:56.898Z\n",
       "\n",
       "[128 rows x 12 columns]"
      ]
     },
     "execution_count": 21,
     "metadata": {
      "tags": []
     },
     "output_type": "execute_result"
    }
   ],
   "source": [
    "mid_menu_df = create_zip_menu_df(10940,pages=6)\n",
    "mid_menu_df"
   ]
  },
  {
   "cell_type": "code",
   "execution_count": null,
   "metadata": {
    "id": "HGVYDc_cXGII"
   },
   "outputs": [],
   "source": [
    "dataframes = {}\n",
    "for i in range(len(middletown_10940_menu)):\n",
    "  df = pd.DataFrame.from_dict(middletown_10940_menu[i]['data'])\n",
    "  dataframes[i] = df\n",
    "\n",
    "final_df = dataframes[0]\n",
    "for i in range(1,len(menus)+1):\n",
    "  final_df = final_df.append(dataframes[i],ignore_index=True)\n",
    " "
   ]
  },
  {
   "cell_type": "code",
   "execution_count": null,
   "metadata": {
    "id": "qygUxAUKxjJy"
   },
   "outputs": [],
   "source": [
    "final_df"
   ]
  },
  {
   "cell_type": "code",
   "execution_count": null,
   "metadata": {
    "id": "T5dU531eFpM7"
   },
   "outputs": [],
   "source": [
    "#pd.DataFrame.from_dict(middletown_rest['data']).append(pd.DataFrame.from_dict(middletown_rest['data']))"
   ]
  },
  {
   "cell_type": "code",
   "execution_count": null,
   "metadata": {
    "id": "Yrx5171GNJd7"
   },
   "outputs": [],
   "source": [
    "# test = pd.DataFrame.from_dict(test_dict)"
   ]
  },
  {
   "cell_type": "code",
   "execution_count": null,
   "metadata": {
    "id": "xBUbjKwcQ6F7"
   },
   "outputs": [],
   "source": [
    "test = pd.DataFrame().append(middletown_rest['data'],ignore_index=True)"
   ]
  },
  {
   "cell_type": "code",
   "execution_count": null,
   "metadata": {
    "id": "_za7vx6QRmVF"
   },
   "outputs": [],
   "source": [
    "test.append(middletown_rest['data'],ignore_index=True)"
   ]
  },
  {
   "cell_type": "code",
   "execution_count": null,
   "metadata": {
    "id": "gb4uNFmznu3M"
   },
   "outputs": [],
   "source": [
    "for i in range(1,1+1):\n",
    "  print(i)"
   ]
  },
  {
   "cell_type": "code",
   "execution_count": 22,
   "metadata": {
    "colab": {
     "base_uri": "https://localhost:8080/"
    },
    "id": "C80OY8V4o_Xs",
    "outputId": "cabc0468-8a13-4b7a-911e-8119991692a3"
   },
   "outputs": [
    {
     "name": "stdout",
     "output_type": "stream",
     "text": [
      "/content\n"
     ]
    }
   ],
   "source": [
    "! pwd"
   ]
  },
  {
   "cell_type": "code",
   "execution_count": 29,
   "metadata": {
    "colab": {
     "base_uri": "https://localhost:8080/"
    },
    "id": "mONpePmPcXaM",
    "outputId": "99faaaa6-8882-4d09-bfda-37f5c6f0c75b"
   },
   "outputs": [
    {
     "name": "stdout",
     "output_type": "stream",
     "text": [
      "/content/drive/MyDrive/Capstone 3\n"
     ]
    }
   ],
   "source": [
    "cd drive/MyDrive/Capstone\\ 3"
   ]
  },
  {
   "cell_type": "code",
   "execution_count": 32,
   "metadata": {
    "id": "QQEK8Yp7cdax"
   },
   "outputs": [],
   "source": [
    "mid_menu_df.to_csv('middletown_menu_df.csv')"
   ]
  },
  {
   "cell_type": "code",
   "execution_count": 33,
   "metadata": {
    "id": "pbOKSph7cjKk"
   },
   "outputs": [],
   "source": [
    "middletown_df.to_csv('middletown_resturants.csv')"
   ]
  },
  {
   "cell_type": "code",
   "execution_count": 1,
   "metadata": {
    "id": "78-wOOKXfISl"
   },
   "outputs": [
    {
     "name": "stdout",
     "output_type": "stream",
     "text": [
      "my name is alex\n"
     ]
    }
   ],
   "source": [
    "print('my name is alex')"
   ]
  },
  {
   "cell_type": "code",
   "execution_count": null,
   "metadata": {},
   "outputs": [],
   "source": []
  }
 ],
 "metadata": {
  "colab": {
   "authorship_tag": "ABX9TyNSQkgtMVPsNS+K9pJlPlaM",
   "collapsed_sections": [],
   "include_colab_link": true,
   "mount_file_id": "1mrciMxHR0uif-A2JqDL6uPrvC2mp_Kgq",
   "name": "workbook_cap3.ipynb",
   "provenance": []
  },
  "instance_type": "ml.t3.medium",
  "kernelspec": {
   "display_name": "Python 3 (SageMaker JumpStart TensorFlow 1.0)",
   "language": "python",
   "name": "python3__SAGEMAKER_INTERNAL__arn:aws:sagemaker:us-east-1:793310587911:image/sagemaker-jumpstart-tensorflow-1.0"
  },
  "language_info": {
   "codemirror_mode": {
    "name": "ipython",
    "version": 3
   },
   "file_extension": ".py",
   "mimetype": "text/x-python",
   "name": "python",
   "nbconvert_exporter": "python",
   "pygments_lexer": "ipython3",
   "version": "3.7.8"
  }
 },
 "nbformat": 4,
 "nbformat_minor": 4
}
